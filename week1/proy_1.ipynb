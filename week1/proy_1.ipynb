{
 "cells": [
  {
   "cell_type": "code",
   "execution_count": null,
   "id": "d792661d",
   "metadata": {},
   "outputs": [],
   "source": [
    "import pandas as pd"
   ]
  },
  {
   "cell_type": "code",
   "execution_count": null,
   "id": "343f6f1f",
   "metadata": {
    "scrolled": false
   },
   "outputs": [],
   "source": [
    "df = pd.read_excel('week_1/data/gapminder_lifeexpectancy.xlsx', index_col=0)\n",
    "df.head()"
   ]
  },
  {
   "cell_type": "code",
   "execution_count": null,
   "id": "b6ff4324",
   "metadata": {},
   "outputs": [],
   "source": [
    "df.columns = df.columns.astype(int)\n",
    "df.head()"
   ]
  },
  {
   "cell_type": "code",
   "execution_count": null,
   "id": "6e17ccf4",
   "metadata": {
    "scrolled": false
   },
   "outputs": [],
   "source": [
    "df.shape"
   ]
  },
  {
   "cell_type": "code",
   "execution_count": null,
   "id": "f89b4056",
   "metadata": {},
   "outputs": [],
   "source": [
    "df.info()"
   ]
  },
  {
   "cell_type": "code",
   "execution_count": null,
   "id": "0a6abe50",
   "metadata": {
    "scrolled": true
   },
   "outputs": [],
   "source": [
    "df.isna().sum()"
   ]
  },
  {
   "cell_type": "code",
   "execution_count": null,
   "id": "37b373be",
   "metadata": {},
   "outputs": [],
   "source": [
    "dfomv = df.dropna()\n",
    "dfomv.head()"
   ]
  },
  {
   "cell_type": "code",
   "execution_count": null,
   "id": "02c2b4a1",
   "metadata": {},
   "outputs": [],
   "source": [
    "dfomv.shape"
   ]
  },
  {
   "cell_type": "code",
   "execution_count": null,
   "id": "0e45f85f",
   "metadata": {},
   "outputs": [],
   "source": [
    "import matplotlib.pyplot as plt\n",
    "\n",
    "dfomv[2015].hist()"
   ]
  },
  {
   "cell_type": "code",
   "execution_count": null,
   "id": "739126bf",
   "metadata": {},
   "outputs": [],
   "source": [
    "dfomv[2015].hist(bins=5)"
   ]
  },
  {
   "cell_type": "code",
   "execution_count": null,
   "id": "abb5aaa8",
   "metadata": {
    "scrolled": true
   },
   "outputs": [],
   "source": [
    "dfomv[2015].hist(bins=30, histtype='step', color='blueviolet')\n",
    "plt.title('Life Expectancy for 2015', fontsize=14, loc='left', color='rebeccapurple')\n",
    "plt.xlabel ('years')\n",
    "plt.ylabel ('frequency')\n",
    "plt.savefig('histo.png')"
   ]
  },
  {
   "cell_type": "code",
   "execution_count": null,
   "id": "662d540d",
   "metadata": {},
   "outputs": [],
   "source": [
    "# Next step: BAR PLOT w fertility rates, df_2"
   ]
  },
  {
   "cell_type": "code",
   "execution_count": null,
   "id": "d7be33b3",
   "metadata": {
    "scrolled": false
   },
   "outputs": [],
   "source": [
    "df_2 = pd.read_csv('week_1/data/gapminder_total_fertility.csv', index_col=0)\n",
    "df_2.shape"
   ]
  },
  {
   "cell_type": "code",
   "execution_count": null,
   "id": "4d6eff12",
   "metadata": {},
   "outputs": [],
   "source": [
    "# both data sets have 260 indices. Differ when without rows of MV .. then life 201, fert 199"
   ]
  },
  {
   "cell_type": "code",
   "execution_count": null,
   "id": "26a8aa06",
   "metadata": {
    "scrolled": false
   },
   "outputs": [],
   "source": [
    "df_2.head()"
   ]
  },
  {
   "cell_type": "code",
   "execution_count": null,
   "id": "f2f2cc61",
   "metadata": {},
   "outputs": [],
   "source": [
    "df_2omv = df_2.dropna()\n",
    "df_2omv.shape"
   ]
  },
  {
   "cell_type": "code",
   "execution_count": null,
   "id": "5e3ea242",
   "metadata": {},
   "outputs": [],
   "source": [
    "df_2 = df_2[['1820', '1870', '1920', '1945']]"
   ]
  },
  {
   "cell_type": "code",
   "execution_count": null,
   "id": "56732e55",
   "metadata": {},
   "outputs": [],
   "source": [
    "df_2 = df_2.loc[['Germany', 'Bulgaria', 'Argentina']]"
   ]
  },
  {
   "cell_type": "code",
   "execution_count": null,
   "id": "eccc3559",
   "metadata": {
    "scrolled": true
   },
   "outputs": [],
   "source": [
    "df_2.plot.bar()\n",
    "plt.legend(bbox_to_anchor=(1.02, 1), loc=2)\n",
    "plt.title('Fertility Rate\\n- comparison Germany, Bulgaria, and Argentina', fontsize=14, loc='left')\n",
    "plt.ylabel('fertility rate')\n",
    "plt.xlabel('')"
   ]
  },
  {
   "cell_type": "code",
   "execution_count": null,
   "id": "23e1668f",
   "metadata": {},
   "outputs": [],
   "source": [
    "df_2.plot.bar(figsize=(5,7))"
   ]
  },
  {
   "cell_type": "code",
   "execution_count": null,
   "id": "3ec330ec",
   "metadata": {
    "scrolled": true
   },
   "outputs": [],
   "source": [
    "df_2.plot.bar(y='1870', width=0.9, color='blueviolet')\n",
    "plt.gca().get_legend().remove()\n",
    "plt.title('Fertility Rate in 1870', fontsize=14, loc='left', color='midnightblue')\n",
    "plt.ylabel('fertility rate')\n",
    "plt.xlabel('')"
   ]
  },
  {
   "cell_type": "code",
   "execution_count": null,
   "id": "ce4e0835",
   "metadata": {},
   "outputs": [],
   "source": [
    "#My first animated scatterplot"
   ]
  },
  {
   "cell_type": "code",
   "execution_count": null,
   "id": "17e20603",
   "metadata": {},
   "outputs": [],
   "source": [
    "fert = pd.read_csv('week_1/data/gapminder_total_fertility.csv', index_col=0)\n",
    "life = pd.read_excel('week_1/data/gapminder_lifeexpectancy.xlsx', index_col=0)\n",
    "fert.shape"
   ]
  },
  {
   "cell_type": "code",
   "execution_count": null,
   "id": "45f26a0d",
   "metadata": {
    "scrolled": true
   },
   "outputs": [],
   "source": [
    "life.shape"
   ]
  },
  {
   "cell_type": "code",
   "execution_count": null,
   "id": "aa8145e4",
   "metadata": {},
   "outputs": [],
   "source": [
    "fert.head()"
   ]
  },
  {
   "cell_type": "code",
   "execution_count": null,
   "id": "2c46caed",
   "metadata": {},
   "outputs": [],
   "source": [
    "life.columns = life.columns.astype(int)\n",
    "life.columns"
   ]
  },
  {
   "cell_type": "code",
   "execution_count": null,
   "id": "13a3b4a5",
   "metadata": {},
   "outputs": [],
   "source": [
    "fert.columns"
   ]
  },
  {
   "cell_type": "code",
   "execution_count": null,
   "id": "1f9680b9",
   "metadata": {},
   "outputs": [],
   "source": [
    "fert.columns = fert.columns.astype(int)\n",
    "fert.columns\n",
    "#now both are int"
   ]
  },
  {
   "cell_type": "code",
   "execution_count": null,
   "id": "c3aafcb8",
   "metadata": {
    "scrolled": false
   },
   "outputs": [],
   "source": [
    "fert.index"
   ]
  },
  {
   "cell_type": "code",
   "execution_count": null,
   "id": "bc8a192e",
   "metadata": {},
   "outputs": [],
   "source": [
    "fert.index.name = 'country'"
   ]
  },
  {
   "cell_type": "code",
   "execution_count": null,
   "id": "678cef5a",
   "metadata": {},
   "outputs": [],
   "source": [
    "fert = fert.reset_index()\n",
    "fert = fert.melt(id_vars='country', var_name='year', value_name='fertility rate')"
   ]
  },
  {
   "cell_type": "code",
   "execution_count": null,
   "id": "8c11a473",
   "metadata": {},
   "outputs": [],
   "source": [
    "life.index"
   ]
  },
  {
   "cell_type": "code",
   "execution_count": null,
   "id": "c3a1a03a",
   "metadata": {},
   "outputs": [],
   "source": [
    "life.index.name = 'country'"
   ]
  },
  {
   "cell_type": "code",
   "execution_count": null,
   "id": "6ce96e4c",
   "metadata": {},
   "outputs": [],
   "source": [
    "life = life.reset_index()\n",
    "life = life.melt(id_vars='country', var_name='year', value_name='life expectancy')"
   ]
  },
  {
   "cell_type": "code",
   "execution_count": null,
   "id": "5973c465",
   "metadata": {},
   "outputs": [],
   "source": [
    "import numpy as np"
   ]
  },
  {
   "cell_type": "code",
   "execution_count": null,
   "id": "dabc9be4",
   "metadata": {
    "scrolled": true
   },
   "outputs": [],
   "source": [
    "pop = pd.read_excel('week_1/data/gapminder_population.xlsx')\n",
    "pop.shape"
   ]
  },
  {
   "cell_type": "code",
   "execution_count": null,
   "id": "aea4d908",
   "metadata": {},
   "outputs": [],
   "source": [
    "popomv = pop.dropna()\n",
    "popomv.shape"
   ]
  },
  {
   "cell_type": "code",
   "execution_count": null,
   "id": "5ecde68a",
   "metadata": {},
   "outputs": [],
   "source": [
    "# to not loose countries from pop by just cutting them, I decided to join and not merge that one. did not work \n",
    "# need to retry it again"
   ]
  },
  {
   "cell_type": "code",
   "execution_count": null,
   "id": "2422fe6e",
   "metadata": {
    "scrolled": false
   },
   "outputs": [],
   "source": [
    "pop.index"
   ]
  },
  {
   "cell_type": "code",
   "execution_count": null,
   "id": "07f973b3",
   "metadata": {},
   "outputs": [],
   "source": [
    "pop.head()"
   ]
  },
  {
   "cell_type": "code",
   "execution_count": null,
   "id": "83f92e6e",
   "metadata": {},
   "outputs": [],
   "source": [
    "# first column needs to be the index\n",
    "pop.set_index('Total population', inplace = True)"
   ]
  },
  {
   "cell_type": "code",
   "execution_count": null,
   "id": "0a918423",
   "metadata": {},
   "outputs": [],
   "source": [
    "pop.index"
   ]
  },
  {
   "cell_type": "code",
   "execution_count": null,
   "id": "ef337801",
   "metadata": {
    "scrolled": false
   },
   "outputs": [],
   "source": [
    "pop.index.name = 'country'\n",
    "pop.head()"
   ]
  },
  {
   "cell_type": "code",
   "execution_count": null,
   "id": "c2a7cee9",
   "metadata": {},
   "outputs": [],
   "source": [
    "pop.columns = pop.columns.astype(int)\n",
    "pop.head()"
   ]
  },
  {
   "cell_type": "code",
   "execution_count": null,
   "id": "bd24140d",
   "metadata": {},
   "outputs": [],
   "source": [
    "pop = pop.reset_index()\n",
    "pop = pop.melt(id_vars='country', var_name='year', value_name='population')"
   ]
  },
  {
   "cell_type": "code",
   "execution_count": null,
   "id": "1a51a3d2",
   "metadata": {},
   "outputs": [],
   "source": [
    "pop.head()"
   ]
  },
  {
   "cell_type": "code",
   "execution_count": null,
   "id": "c635973e",
   "metadata": {},
   "outputs": [],
   "source": [
    "df = fert.merge(life)"
   ]
  },
  {
   "cell_type": "code",
   "execution_count": null,
   "id": "c48c6c58",
   "metadata": {},
   "outputs": [],
   "source": [
    "df.shape\n",
    "#looks like it doesn't make sense"
   ]
  },
  {
   "cell_type": "code",
   "execution_count": null,
   "id": "bf0700a6",
   "metadata": {},
   "outputs": [],
   "source": [
    "df = df.merge(pop)"
   ]
  },
  {
   "cell_type": "code",
   "execution_count": null,
   "id": "cc879569",
   "metadata": {},
   "outputs": [],
   "source": [
    "df.head()"
   ]
  },
  {
   "cell_type": "code",
   "execution_count": null,
   "id": "137538b5",
   "metadata": {},
   "outputs": [],
   "source": [
    "import seaborn as sns"
   ]
  },
  {
   "cell_type": "code",
   "execution_count": null,
   "id": "2d61c5d1",
   "metadata": {},
   "outputs": [],
   "source": [
    "df_subset = df.loc[df['year'] == 2000]\n",
    "sns.scatterplot (x='life expectancy', y='fertility rate', data=df_subset, alpha=0.6)"
   ]
  },
  {
   "cell_type": "code",
   "execution_count": null,
   "id": "110ada4c",
   "metadata": {},
   "outputs": [],
   "source": []
  },
  {
   "cell_type": "code",
   "execution_count": null,
   "id": "1eeb8765",
   "metadata": {},
   "outputs": [],
   "source": []
  },
  {
   "cell_type": "code",
   "execution_count": null,
   "id": "0c163854",
   "metadata": {},
   "outputs": [],
   "source": []
  },
  {
   "cell_type": "code",
   "execution_count": null,
   "id": "07504580",
   "metadata": {},
   "outputs": [],
   "source": []
  },
  {
   "cell_type": "code",
   "execution_count": null,
   "id": "873a0c7b",
   "metadata": {},
   "outputs": [],
   "source": []
  },
  {
   "cell_type": "code",
   "execution_count": null,
   "id": "ce2e4d0a",
   "metadata": {},
   "outputs": [],
   "source": []
  },
  {
   "cell_type": "code",
   "execution_count": null,
   "id": "2d754eba",
   "metadata": {},
   "outputs": [],
   "source": []
  },
  {
   "cell_type": "code",
   "execution_count": null,
   "id": "2a9e2837",
   "metadata": {},
   "outputs": [],
   "source": []
  },
  {
   "cell_type": "code",
   "execution_count": null,
   "id": "968f4fbf",
   "metadata": {},
   "outputs": [],
   "source": []
  }
 ],
 "metadata": {
  "kernelspec": {
   "display_name": "Python 3 (ipykernel)",
   "language": "python",
   "name": "python3"
  },
  "language_info": {
   "codemirror_mode": {
    "name": "ipython",
    "version": 3
   },
   "file_extension": ".py",
   "mimetype": "text/x-python",
   "name": "python",
   "nbconvert_exporter": "python",
   "pygments_lexer": "ipython3",
   "version": "3.9.12"
  }
 },
 "nbformat": 4,
 "nbformat_minor": 5
}
