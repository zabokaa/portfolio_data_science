{
 "cells": [
  {
   "cell_type": "code",
   "execution_count": null,
   "id": "3b0921ab",
   "metadata": {},
   "outputs": [],
   "source": [
    "import cv2\n",
    "import matplotlib.pyplot as plt\n",
    "\n",
    "from deepface import DeepFace"
   ]
  },
  {
   "cell_type": "markdown",
   "id": "a0efe876",
   "metadata": {},
   "source": [
    "# FER via REAL TIME VID"
   ]
  },
  {
   "cell_type": "code",
   "execution_count": null,
   "id": "c7a6c694",
   "metadata": {},
   "outputs": [],
   "source": [
    "faceCascade = cv2.CascadeClassifier(cv2.data.haarcascades + 'haarcascade_frontalface_default.xml')"
   ]
  },
  {
   "cell_type": "code",
   "execution_count": null,
   "id": "e781f630",
   "metadata": {},
   "outputs": [],
   "source": [
    "cap = cv2.VideoCapture(0)"
   ]
  },
  {
   "cell_type": "code",
   "execution_count": null,
   "id": "71b7cae9",
   "metadata": {},
   "outputs": [],
   "source": [
    "ret, frame = cap.read()"
   ]
  },
  {
   "cell_type": "code",
   "execution_count": null,
   "id": "1fa2cf92",
   "metadata": {},
   "outputs": [],
   "source": [
    "print(ret)"
   ]
  },
  {
   "cell_type": "code",
   "execution_count": null,
   "id": "6e0ac0eb",
   "metadata": {},
   "outputs": [],
   "source": []
  },
  {
   "cell_type": "code",
   "execution_count": null,
   "id": "e2a3d7f9",
   "metadata": {
    "scrolled": false
   },
   "outputs": [],
   "source": [
    "# infinite loop\n",
    "while True:\n",
    "    ret, frame = cap.read()\n",
    "    if frame is None:\n",
    "        raise ValueError('unable to get a frame!')\n",
    "        \n",
    "    gray = cv2.cvtColor(frame, cv2.COLOR_BGR2GRAY)\n",
    "    faces = faceCascade.detectMultiScale(gray,1.1,4)\n",
    "    for (x, y, w, h) in faces:\n",
    "        cv2.rectangle(frame, (x, y), (x+w, y+h), (95, 158, 160), 15)\n",
    "        result = DeepFace.analyze(img_path = frame, actions = ['emotion'], enforce_detection=False)\n",
    "        text = cv2.FONT_HERSHEY_DUPLEX \n",
    "        cv2.putText(\n",
    "            frame,\n",
    "            result['dominant_emotion'],\n",
    "            (x+5, y-20),\n",
    "            text, 2,\n",
    "            (75,0,130),\n",
    "            4,\n",
    "            cv2.LINE_4) \n",
    "    \n",
    "        cv2.imshow('frame', frame)\n",
    "    \n",
    "    if cv2.waitKey(5) & 0xFF == ord('p'):\n",
    "            break\n",
    "        \n",
    "cap.release()\n",
    "cv2.destroyAllWindows()"
   ]
  },
  {
   "cell_type": "code",
   "execution_count": null,
   "id": "fce5e53b",
   "metadata": {},
   "outputs": [],
   "source": [
    "# cap.release()\n",
    "# cv2.destroyAllWindows()"
   ]
  }
 ],
 "metadata": {
  "kernelspec": {
   "display_name": "Python 3 (ipykernel)",
   "language": "python",
   "name": "python3"
  },
  "language_info": {
   "codemirror_mode": {
    "name": "ipython",
    "version": 3
   },
   "file_extension": ".py",
   "mimetype": "text/x-python",
   "name": "python",
   "nbconvert_exporter": "python",
   "pygments_lexer": "ipython3",
   "version": "3.9.12"
  }
 },
 "nbformat": 4,
 "nbformat_minor": 5
}
